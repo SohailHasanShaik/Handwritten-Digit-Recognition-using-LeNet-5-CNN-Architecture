{
  "nbformat": 4,
  "nbformat_minor": 0,
  "metadata": {
    "colab": {
      "provenance": [],
      "gpuType": "T4"
    },
    "kernelspec": {
      "name": "python3",
      "display_name": "Python 3"
    },
    "language_info": {
      "name": "python"
    },
    "accelerator": "GPU"
  },
  "cells": [
    {
      "cell_type": "code",
      "execution_count": 1,
      "metadata": {
        "colab": {
          "base_uri": "https://localhost:8080/"
        },
        "id": "KoVUOPtKn7vL",
        "outputId": "055df9e7-aa07-41b9-dc70-47e8a25afc2e"
      },
      "outputs": [
        {
          "output_type": "execute_result",
          "data": {
            "text/plain": [
              "<module 'keras.api.datasets' from '/usr/local/lib/python3.10/dist-packages/keras/api/datasets/__init__.py'>"
            ]
          },
          "metadata": {},
          "execution_count": 1
        }
      ],
      "source": [
        "# Database used → MNIST Database.com\n",
        "\n",
        "import numpy as np\n",
        "import pandas as pd\n",
        "from tensorflow.keras import datasets\n",
        "\n",
        "datasets"
      ]
    },
    {
      "cell_type": "code",
      "source": [
        "(x_train, y_train), (x_test, y_test) = datasets.mnist.load_data()\n",
        "x_train.shape"
      ],
      "metadata": {
        "colab": {
          "base_uri": "https://localhost:8080/"
        },
        "id": "XifqfOFVoWHe",
        "outputId": "45e8b031-8381-47e3-c5a4-33c55c982436"
      },
      "execution_count": 2,
      "outputs": [
        {
          "output_type": "stream",
          "name": "stdout",
          "text": [
            "Downloading data from https://storage.googleapis.com/tensorflow/tf-keras-datasets/mnist.npz\n",
            "\u001b[1m11490434/11490434\u001b[0m \u001b[32m━━━━━━━━━━━━━━━━━━━━\u001b[0m\u001b[37m\u001b[0m \u001b[1m0s\u001b[0m 0us/step\n"
          ]
        },
        {
          "output_type": "execute_result",
          "data": {
            "text/plain": [
              "(60000, 28, 28)"
            ]
          },
          "metadata": {},
          "execution_count": 2
        }
      ]
    },
    {
      "cell_type": "code",
      "source": [
        "x_test.shape"
      ],
      "metadata": {
        "colab": {
          "base_uri": "https://localhost:8080/"
        },
        "id": "Pb6f1maWobDE",
        "outputId": "9e5e0f0c-52e8-4b06-994c-6b4ad1e63348"
      },
      "execution_count": 3,
      "outputs": [
        {
          "output_type": "execute_result",
          "data": {
            "text/plain": [
              "(10000, 28, 28)"
            ]
          },
          "metadata": {},
          "execution_count": 3
        }
      ]
    },
    {
      "cell_type": "code",
      "source": [
        "width, height = 28, 28\n",
        "input_shape = (width, height, 1)\n",
        "input_shape"
      ],
      "metadata": {
        "colab": {
          "base_uri": "https://localhost:8080/"
        },
        "id": "2ACbNy1YodT_",
        "outputId": "5c3c1693-a0f6-42ec-ddf9-75f5d9095aba"
      },
      "execution_count": 4,
      "outputs": [
        {
          "output_type": "execute_result",
          "data": {
            "text/plain": [
              "(28, 28, 1)"
            ]
          },
          "metadata": {},
          "execution_count": 4
        }
      ]
    },
    {
      "cell_type": "code",
      "source": [
        "x_train = x_train.reshape(x_train.shape[0], height, width, 1)\n",
        "x_test = x_test.reshape(x_test.shape[0], height, width, 1)\n",
        "\n",
        "x_train.shape"
      ],
      "metadata": {
        "colab": {
          "base_uri": "https://localhost:8080/"
        },
        "id": "Rx17v12Roe8A",
        "outputId": "08ca9186-2c01-48b6-f859-b9ef28e275b3"
      },
      "execution_count": 5,
      "outputs": [
        {
          "output_type": "execute_result",
          "data": {
            "text/plain": [
              "(60000, 28, 28, 1)"
            ]
          },
          "metadata": {},
          "execution_count": 5
        }
      ]
    },
    {
      "cell_type": "code",
      "source": [
        "y_train.shape"
      ],
      "metadata": {
        "colab": {
          "base_uri": "https://localhost:8080/"
        },
        "id": "LKyfF1auogxO",
        "outputId": "c713dce0-acbb-493e-8e1c-49c164b64bc2"
      },
      "execution_count": 6,
      "outputs": [
        {
          "output_type": "execute_result",
          "data": {
            "text/plain": [
              "(60000,)"
            ]
          },
          "metadata": {},
          "execution_count": 6
        }
      ]
    },
    {
      "cell_type": "code",
      "source": [
        "from sklearn.model_selection import train_test_split\n",
        "x_train, x_val, y_train, y_val = train_test_split(x_train, y_train, test_size = 0.1)\n",
        "\n",
        "len(x_val)\n"
      ],
      "metadata": {
        "colab": {
          "base_uri": "https://localhost:8080/"
        },
        "id": "9PGA-HThoi-n",
        "outputId": "fcf42a4b-b95a-4582-972b-c72678653c15"
      },
      "execution_count": 7,
      "outputs": [
        {
          "output_type": "execute_result",
          "data": {
            "text/plain": [
              "6000"
            ]
          },
          "metadata": {},
          "execution_count": 7
        }
      ]
    },
    {
      "cell_type": "code",
      "source": [
        "x_train = (x_train - x_train.mean()) / x_train.std()\n",
        "x_val = (x_val - x_val.mean()) / x_val.std()\n",
        "x_test = (x_test - x_test.mean()) / x_test.std()\n",
        "\n",
        "x_train\n"
      ],
      "metadata": {
        "colab": {
          "base_uri": "https://localhost:8080/"
        },
        "id": "6irrnUOkolnP",
        "outputId": "d15a236a-13e3-4a7f-9678-361635db97b0"
      },
      "execution_count": 8,
      "outputs": [
        {
          "output_type": "execute_result",
          "data": {
            "text/plain": [
              "array([[[[-0.42395404],\n",
              "         [-0.42395404],\n",
              "         [-0.42395404],\n",
              "         ...,\n",
              "         [-0.42395404],\n",
              "         [-0.42395404],\n",
              "         [-0.42395404]],\n",
              "\n",
              "        [[-0.42395404],\n",
              "         [-0.42395404],\n",
              "         [-0.42395404],\n",
              "         ...,\n",
              "         [-0.42395404],\n",
              "         [-0.42395404],\n",
              "         [-0.42395404]],\n",
              "\n",
              "        [[-0.42395404],\n",
              "         [-0.42395404],\n",
              "         [-0.42395404],\n",
              "         ...,\n",
              "         [-0.42395404],\n",
              "         [-0.42395404],\n",
              "         [-0.42395404]],\n",
              "\n",
              "        ...,\n",
              "\n",
              "        [[-0.42395404],\n",
              "         [-0.42395404],\n",
              "         [-0.42395404],\n",
              "         ...,\n",
              "         [-0.42395404],\n",
              "         [-0.42395404],\n",
              "         [-0.42395404]],\n",
              "\n",
              "        [[-0.42395404],\n",
              "         [-0.42395404],\n",
              "         [-0.42395404],\n",
              "         ...,\n",
              "         [-0.42395404],\n",
              "         [-0.42395404],\n",
              "         [-0.42395404]],\n",
              "\n",
              "        [[-0.42395404],\n",
              "         [-0.42395404],\n",
              "         [-0.42395404],\n",
              "         ...,\n",
              "         [-0.42395404],\n",
              "         [-0.42395404],\n",
              "         [-0.42395404]]],\n",
              "\n",
              "\n",
              "       [[[-0.42395404],\n",
              "         [-0.42395404],\n",
              "         [-0.42395404],\n",
              "         ...,\n",
              "         [-0.42395404],\n",
              "         [-0.42395404],\n",
              "         [-0.42395404]],\n",
              "\n",
              "        [[-0.42395404],\n",
              "         [-0.42395404],\n",
              "         [-0.42395404],\n",
              "         ...,\n",
              "         [-0.42395404],\n",
              "         [-0.42395404],\n",
              "         [-0.42395404]],\n",
              "\n",
              "        [[-0.42395404],\n",
              "         [-0.42395404],\n",
              "         [-0.42395404],\n",
              "         ...,\n",
              "         [-0.42395404],\n",
              "         [-0.42395404],\n",
              "         [-0.42395404]],\n",
              "\n",
              "        ...,\n",
              "\n",
              "        [[-0.42395404],\n",
              "         [-0.42395404],\n",
              "         [-0.42395404],\n",
              "         ...,\n",
              "         [-0.42395404],\n",
              "         [-0.42395404],\n",
              "         [-0.42395404]],\n",
              "\n",
              "        [[-0.42395404],\n",
              "         [-0.42395404],\n",
              "         [-0.42395404],\n",
              "         ...,\n",
              "         [-0.42395404],\n",
              "         [-0.42395404],\n",
              "         [-0.42395404]],\n",
              "\n",
              "        [[-0.42395404],\n",
              "         [-0.42395404],\n",
              "         [-0.42395404],\n",
              "         ...,\n",
              "         [-0.42395404],\n",
              "         [-0.42395404],\n",
              "         [-0.42395404]]],\n",
              "\n",
              "\n",
              "       [[[-0.42395404],\n",
              "         [-0.42395404],\n",
              "         [-0.42395404],\n",
              "         ...,\n",
              "         [-0.42395404],\n",
              "         [-0.42395404],\n",
              "         [-0.42395404]],\n",
              "\n",
              "        [[-0.42395404],\n",
              "         [-0.42395404],\n",
              "         [-0.42395404],\n",
              "         ...,\n",
              "         [-0.42395404],\n",
              "         [-0.42395404],\n",
              "         [-0.42395404]],\n",
              "\n",
              "        [[-0.42395404],\n",
              "         [-0.42395404],\n",
              "         [-0.42395404],\n",
              "         ...,\n",
              "         [-0.42395404],\n",
              "         [-0.42395404],\n",
              "         [-0.42395404]],\n",
              "\n",
              "        ...,\n",
              "\n",
              "        [[-0.42395404],\n",
              "         [-0.42395404],\n",
              "         [-0.42395404],\n",
              "         ...,\n",
              "         [-0.42395404],\n",
              "         [-0.42395404],\n",
              "         [-0.42395404]],\n",
              "\n",
              "        [[-0.42395404],\n",
              "         [-0.42395404],\n",
              "         [-0.42395404],\n",
              "         ...,\n",
              "         [-0.42395404],\n",
              "         [-0.42395404],\n",
              "         [-0.42395404]],\n",
              "\n",
              "        [[-0.42395404],\n",
              "         [-0.42395404],\n",
              "         [-0.42395404],\n",
              "         ...,\n",
              "         [-0.42395404],\n",
              "         [-0.42395404],\n",
              "         [-0.42395404]]],\n",
              "\n",
              "\n",
              "       ...,\n",
              "\n",
              "\n",
              "       [[[-0.42395404],\n",
              "         [-0.42395404],\n",
              "         [-0.42395404],\n",
              "         ...,\n",
              "         [-0.42395404],\n",
              "         [-0.42395404],\n",
              "         [-0.42395404]],\n",
              "\n",
              "        [[-0.42395404],\n",
              "         [-0.42395404],\n",
              "         [-0.42395404],\n",
              "         ...,\n",
              "         [-0.42395404],\n",
              "         [-0.42395404],\n",
              "         [-0.42395404]],\n",
              "\n",
              "        [[-0.42395404],\n",
              "         [-0.42395404],\n",
              "         [-0.42395404],\n",
              "         ...,\n",
              "         [-0.42395404],\n",
              "         [-0.42395404],\n",
              "         [-0.42395404]],\n",
              "\n",
              "        ...,\n",
              "\n",
              "        [[-0.42395404],\n",
              "         [-0.42395404],\n",
              "         [-0.42395404],\n",
              "         ...,\n",
              "         [-0.42395404],\n",
              "         [-0.42395404],\n",
              "         [-0.42395404]],\n",
              "\n",
              "        [[-0.42395404],\n",
              "         [-0.42395404],\n",
              "         [-0.42395404],\n",
              "         ...,\n",
              "         [-0.42395404],\n",
              "         [-0.42395404],\n",
              "         [-0.42395404]],\n",
              "\n",
              "        [[-0.42395404],\n",
              "         [-0.42395404],\n",
              "         [-0.42395404],\n",
              "         ...,\n",
              "         [-0.42395404],\n",
              "         [-0.42395404],\n",
              "         [-0.42395404]]],\n",
              "\n",
              "\n",
              "       [[[-0.42395404],\n",
              "         [-0.42395404],\n",
              "         [-0.42395404],\n",
              "         ...,\n",
              "         [-0.42395404],\n",
              "         [-0.42395404],\n",
              "         [-0.42395404]],\n",
              "\n",
              "        [[-0.42395404],\n",
              "         [-0.42395404],\n",
              "         [-0.42395404],\n",
              "         ...,\n",
              "         [-0.42395404],\n",
              "         [-0.42395404],\n",
              "         [-0.42395404]],\n",
              "\n",
              "        [[-0.42395404],\n",
              "         [-0.42395404],\n",
              "         [-0.42395404],\n",
              "         ...,\n",
              "         [-0.42395404],\n",
              "         [-0.42395404],\n",
              "         [-0.42395404]],\n",
              "\n",
              "        ...,\n",
              "\n",
              "        [[-0.42395404],\n",
              "         [-0.42395404],\n",
              "         [-0.42395404],\n",
              "         ...,\n",
              "         [-0.42395404],\n",
              "         [-0.42395404],\n",
              "         [-0.42395404]],\n",
              "\n",
              "        [[-0.42395404],\n",
              "         [-0.42395404],\n",
              "         [-0.42395404],\n",
              "         ...,\n",
              "         [-0.42395404],\n",
              "         [-0.42395404],\n",
              "         [-0.42395404]],\n",
              "\n",
              "        [[-0.42395404],\n",
              "         [-0.42395404],\n",
              "         [-0.42395404],\n",
              "         ...,\n",
              "         [-0.42395404],\n",
              "         [-0.42395404],\n",
              "         [-0.42395404]]],\n",
              "\n",
              "\n",
              "       [[[-0.42395404],\n",
              "         [-0.42395404],\n",
              "         [-0.42395404],\n",
              "         ...,\n",
              "         [-0.42395404],\n",
              "         [-0.42395404],\n",
              "         [-0.42395404]],\n",
              "\n",
              "        [[-0.42395404],\n",
              "         [-0.42395404],\n",
              "         [-0.42395404],\n",
              "         ...,\n",
              "         [-0.42395404],\n",
              "         [-0.42395404],\n",
              "         [-0.42395404]],\n",
              "\n",
              "        [[-0.42395404],\n",
              "         [-0.42395404],\n",
              "         [-0.42395404],\n",
              "         ...,\n",
              "         [-0.42395404],\n",
              "         [-0.42395404],\n",
              "         [-0.42395404]],\n",
              "\n",
              "        ...,\n",
              "\n",
              "        [[-0.42395404],\n",
              "         [-0.42395404],\n",
              "         [-0.42395404],\n",
              "         ...,\n",
              "         [-0.42395404],\n",
              "         [-0.42395404],\n",
              "         [-0.42395404]],\n",
              "\n",
              "        [[-0.42395404],\n",
              "         [-0.42395404],\n",
              "         [-0.42395404],\n",
              "         ...,\n",
              "         [-0.42395404],\n",
              "         [-0.42395404],\n",
              "         [-0.42395404]],\n",
              "\n",
              "        [[-0.42395404],\n",
              "         [-0.42395404],\n",
              "         [-0.42395404],\n",
              "         ...,\n",
              "         [-0.42395404],\n",
              "         [-0.42395404],\n",
              "         [-0.42395404]]]])"
            ]
          },
          "metadata": {},
          "execution_count": 8
        }
      ]
    },
    {
      "cell_type": "code",
      "source": [
        "y_train"
      ],
      "metadata": {
        "colab": {
          "base_uri": "https://localhost:8080/"
        },
        "id": "yLedjHgDooH5",
        "outputId": "eaa424da-bc19-4f30-8a89-fa401095e550"
      },
      "execution_count": 9,
      "outputs": [
        {
          "output_type": "execute_result",
          "data": {
            "text/plain": [
              "array([3, 5, 1, ..., 1, 8, 7], dtype=uint8)"
            ]
          },
          "metadata": {},
          "execution_count": 9
        }
      ]
    },
    {
      "cell_type": "code",
      "source": [
        "import tensorflow\n",
        "import keras\n",
        "num_labels = 10\n",
        "y_train = keras.utils.to_categorical(y_train)\n",
        "y_train"
      ],
      "metadata": {
        "colab": {
          "base_uri": "https://localhost:8080/"
        },
        "id": "FM87vs_bosVr",
        "outputId": "73db14e0-9cbe-46bd-b158-e7fda7df793b"
      },
      "execution_count": 10,
      "outputs": [
        {
          "output_type": "execute_result",
          "data": {
            "text/plain": [
              "array([[0., 0., 0., ..., 0., 0., 0.],\n",
              "       [0., 0., 0., ..., 0., 0., 0.],\n",
              "       [0., 1., 0., ..., 0., 0., 0.],\n",
              "       ...,\n",
              "       [0., 1., 0., ..., 0., 0., 0.],\n",
              "       [0., 0., 0., ..., 0., 1., 0.],\n",
              "       [0., 0., 0., ..., 1., 0., 0.]])"
            ]
          },
          "metadata": {},
          "execution_count": 10
        }
      ]
    },
    {
      "cell_type": "code",
      "source": [
        "y_val= keras.utils.to_categorical(y_val)\n",
        "y_test= keras.utils.to_categorical(y_test)"
      ],
      "metadata": {
        "id": "zywIV-laow4J"
      },
      "execution_count": 11,
      "outputs": []
    },
    {
      "cell_type": "code",
      "source": [
        "# MODEL\n",
        "from tensorflow.keras.models import Sequential\n",
        "from tensorflow.keras.layers import Dense, Flatten, Input, Conv2D, MaxPooling2D, AveragePooling2D\n",
        "\n",
        "model = Sequential()\n",
        "model.add(Conv2D(6, kernel_size = (5, 5), strides = (1, 1), activation = 'tanh', input_shape = (28, 28, 1)))\n",
        "model.add(AveragePooling2D(pool_size = (2,2), strides = (1,1)))\n",
        "model.add(Conv2D(16, kernel_size = (5, 5), strides = (1, 1), activation = 'tanh'))\n",
        "model.add(AveragePooling2D(pool_size = (2,2), strides = (2, 2)))\n",
        "model.add(Conv2D(120, kernel_size = (5, 5), strides = (1, 1), activation = 'tanh'))\n",
        "model.add(Flatten())\n",
        "model.add(Dense(84, activation = 'tanh'))\n",
        "model.add(Dense(num_labels, activation = \"softmax\"))\n",
        "\n",
        "model.summary()\n"
      ],
      "metadata": {
        "colab": {
          "base_uri": "https://localhost:8080/",
          "height": 480
        },
        "id": "N6EpYuAqozCk",
        "outputId": "2392f9a8-9803-4e15-9109-55daba53d565"
      },
      "execution_count": 12,
      "outputs": [
        {
          "output_type": "stream",
          "name": "stderr",
          "text": [
            "/usr/local/lib/python3.10/dist-packages/keras/src/layers/convolutional/base_conv.py:107: UserWarning: Do not pass an `input_shape`/`input_dim` argument to a layer. When using Sequential models, prefer using an `Input(shape)` object as the first layer in the model instead.\n",
            "  super().__init__(activity_regularizer=activity_regularizer, **kwargs)\n"
          ]
        },
        {
          "output_type": "display_data",
          "data": {
            "text/plain": [
              "\u001b[1mModel: \"sequential\"\u001b[0m\n"
            ],
            "text/html": [
              "<pre style=\"white-space:pre;overflow-x:auto;line-height:normal;font-family:Menlo,'DejaVu Sans Mono',consolas,'Courier New',monospace\"><span style=\"font-weight: bold\">Model: \"sequential\"</span>\n",
              "</pre>\n"
            ]
          },
          "metadata": {}
        },
        {
          "output_type": "display_data",
          "data": {
            "text/plain": [
              "┏━━━━━━━━━━━━━━━━━━━━━━━━━━━━━━━━━━━━━━┳━━━━━━━━━━━━━━━━━━━━━━━━━━━━━┳━━━━━━━━━━━━━━━━━┓\n",
              "┃\u001b[1m \u001b[0m\u001b[1mLayer (type)                        \u001b[0m\u001b[1m \u001b[0m┃\u001b[1m \u001b[0m\u001b[1mOutput Shape               \u001b[0m\u001b[1m \u001b[0m┃\u001b[1m \u001b[0m\u001b[1m        Param #\u001b[0m\u001b[1m \u001b[0m┃\n",
              "┡━━━━━━━━━━━━━━━━━━━━━━━━━━━━━━━━━━━━━━╇━━━━━━━━━━━━━━━━━━━━━━━━━━━━━╇━━━━━━━━━━━━━━━━━┩\n",
              "│ conv2d (\u001b[38;5;33mConv2D\u001b[0m)                      │ (\u001b[38;5;45mNone\u001b[0m, \u001b[38;5;34m24\u001b[0m, \u001b[38;5;34m24\u001b[0m, \u001b[38;5;34m6\u001b[0m)           │             \u001b[38;5;34m156\u001b[0m │\n",
              "├──────────────────────────────────────┼─────────────────────────────┼─────────────────┤\n",
              "│ average_pooling2d (\u001b[38;5;33mAveragePooling2D\u001b[0m) │ (\u001b[38;5;45mNone\u001b[0m, \u001b[38;5;34m23\u001b[0m, \u001b[38;5;34m23\u001b[0m, \u001b[38;5;34m6\u001b[0m)           │               \u001b[38;5;34m0\u001b[0m │\n",
              "├──────────────────────────────────────┼─────────────────────────────┼─────────────────┤\n",
              "│ conv2d_1 (\u001b[38;5;33mConv2D\u001b[0m)                    │ (\u001b[38;5;45mNone\u001b[0m, \u001b[38;5;34m19\u001b[0m, \u001b[38;5;34m19\u001b[0m, \u001b[38;5;34m16\u001b[0m)          │           \u001b[38;5;34m2,416\u001b[0m │\n",
              "├──────────────────────────────────────┼─────────────────────────────┼─────────────────┤\n",
              "│ average_pooling2d_1                  │ (\u001b[38;5;45mNone\u001b[0m, \u001b[38;5;34m9\u001b[0m, \u001b[38;5;34m9\u001b[0m, \u001b[38;5;34m16\u001b[0m)            │               \u001b[38;5;34m0\u001b[0m │\n",
              "│ (\u001b[38;5;33mAveragePooling2D\u001b[0m)                   │                             │                 │\n",
              "├──────────────────────────────────────┼─────────────────────────────┼─────────────────┤\n",
              "│ conv2d_2 (\u001b[38;5;33mConv2D\u001b[0m)                    │ (\u001b[38;5;45mNone\u001b[0m, \u001b[38;5;34m5\u001b[0m, \u001b[38;5;34m5\u001b[0m, \u001b[38;5;34m120\u001b[0m)           │          \u001b[38;5;34m48,120\u001b[0m │\n",
              "├──────────────────────────────────────┼─────────────────────────────┼─────────────────┤\n",
              "│ flatten (\u001b[38;5;33mFlatten\u001b[0m)                    │ (\u001b[38;5;45mNone\u001b[0m, \u001b[38;5;34m3000\u001b[0m)                │               \u001b[38;5;34m0\u001b[0m │\n",
              "├──────────────────────────────────────┼─────────────────────────────┼─────────────────┤\n",
              "│ dense (\u001b[38;5;33mDense\u001b[0m)                        │ (\u001b[38;5;45mNone\u001b[0m, \u001b[38;5;34m84\u001b[0m)                  │         \u001b[38;5;34m252,084\u001b[0m │\n",
              "├──────────────────────────────────────┼─────────────────────────────┼─────────────────┤\n",
              "│ dense_1 (\u001b[38;5;33mDense\u001b[0m)                      │ (\u001b[38;5;45mNone\u001b[0m, \u001b[38;5;34m10\u001b[0m)                  │             \u001b[38;5;34m850\u001b[0m │\n",
              "└──────────────────────────────────────┴─────────────────────────────┴─────────────────┘\n"
            ],
            "text/html": [
              "<pre style=\"white-space:pre;overflow-x:auto;line-height:normal;font-family:Menlo,'DejaVu Sans Mono',consolas,'Courier New',monospace\">┏━━━━━━━━━━━━━━━━━━━━━━━━━━━━━━━━━━━━━━┳━━━━━━━━━━━━━━━━━━━━━━━━━━━━━┳━━━━━━━━━━━━━━━━━┓\n",
              "┃<span style=\"font-weight: bold\"> Layer (type)                         </span>┃<span style=\"font-weight: bold\"> Output Shape                </span>┃<span style=\"font-weight: bold\">         Param # </span>┃\n",
              "┡━━━━━━━━━━━━━━━━━━━━━━━━━━━━━━━━━━━━━━╇━━━━━━━━━━━━━━━━━━━━━━━━━━━━━╇━━━━━━━━━━━━━━━━━┩\n",
              "│ conv2d (<span style=\"color: #0087ff; text-decoration-color: #0087ff\">Conv2D</span>)                      │ (<span style=\"color: #00d7ff; text-decoration-color: #00d7ff\">None</span>, <span style=\"color: #00af00; text-decoration-color: #00af00\">24</span>, <span style=\"color: #00af00; text-decoration-color: #00af00\">24</span>, <span style=\"color: #00af00; text-decoration-color: #00af00\">6</span>)           │             <span style=\"color: #00af00; text-decoration-color: #00af00\">156</span> │\n",
              "├──────────────────────────────────────┼─────────────────────────────┼─────────────────┤\n",
              "│ average_pooling2d (<span style=\"color: #0087ff; text-decoration-color: #0087ff\">AveragePooling2D</span>) │ (<span style=\"color: #00d7ff; text-decoration-color: #00d7ff\">None</span>, <span style=\"color: #00af00; text-decoration-color: #00af00\">23</span>, <span style=\"color: #00af00; text-decoration-color: #00af00\">23</span>, <span style=\"color: #00af00; text-decoration-color: #00af00\">6</span>)           │               <span style=\"color: #00af00; text-decoration-color: #00af00\">0</span> │\n",
              "├──────────────────────────────────────┼─────────────────────────────┼─────────────────┤\n",
              "│ conv2d_1 (<span style=\"color: #0087ff; text-decoration-color: #0087ff\">Conv2D</span>)                    │ (<span style=\"color: #00d7ff; text-decoration-color: #00d7ff\">None</span>, <span style=\"color: #00af00; text-decoration-color: #00af00\">19</span>, <span style=\"color: #00af00; text-decoration-color: #00af00\">19</span>, <span style=\"color: #00af00; text-decoration-color: #00af00\">16</span>)          │           <span style=\"color: #00af00; text-decoration-color: #00af00\">2,416</span> │\n",
              "├──────────────────────────────────────┼─────────────────────────────┼─────────────────┤\n",
              "│ average_pooling2d_1                  │ (<span style=\"color: #00d7ff; text-decoration-color: #00d7ff\">None</span>, <span style=\"color: #00af00; text-decoration-color: #00af00\">9</span>, <span style=\"color: #00af00; text-decoration-color: #00af00\">9</span>, <span style=\"color: #00af00; text-decoration-color: #00af00\">16</span>)            │               <span style=\"color: #00af00; text-decoration-color: #00af00\">0</span> │\n",
              "│ (<span style=\"color: #0087ff; text-decoration-color: #0087ff\">AveragePooling2D</span>)                   │                             │                 │\n",
              "├──────────────────────────────────────┼─────────────────────────────┼─────────────────┤\n",
              "│ conv2d_2 (<span style=\"color: #0087ff; text-decoration-color: #0087ff\">Conv2D</span>)                    │ (<span style=\"color: #00d7ff; text-decoration-color: #00d7ff\">None</span>, <span style=\"color: #00af00; text-decoration-color: #00af00\">5</span>, <span style=\"color: #00af00; text-decoration-color: #00af00\">5</span>, <span style=\"color: #00af00; text-decoration-color: #00af00\">120</span>)           │          <span style=\"color: #00af00; text-decoration-color: #00af00\">48,120</span> │\n",
              "├──────────────────────────────────────┼─────────────────────────────┼─────────────────┤\n",
              "│ flatten (<span style=\"color: #0087ff; text-decoration-color: #0087ff\">Flatten</span>)                    │ (<span style=\"color: #00d7ff; text-decoration-color: #00d7ff\">None</span>, <span style=\"color: #00af00; text-decoration-color: #00af00\">3000</span>)                │               <span style=\"color: #00af00; text-decoration-color: #00af00\">0</span> │\n",
              "├──────────────────────────────────────┼─────────────────────────────┼─────────────────┤\n",
              "│ dense (<span style=\"color: #0087ff; text-decoration-color: #0087ff\">Dense</span>)                        │ (<span style=\"color: #00d7ff; text-decoration-color: #00d7ff\">None</span>, <span style=\"color: #00af00; text-decoration-color: #00af00\">84</span>)                  │         <span style=\"color: #00af00; text-decoration-color: #00af00\">252,084</span> │\n",
              "├──────────────────────────────────────┼─────────────────────────────┼─────────────────┤\n",
              "│ dense_1 (<span style=\"color: #0087ff; text-decoration-color: #0087ff\">Dense</span>)                      │ (<span style=\"color: #00d7ff; text-decoration-color: #00d7ff\">None</span>, <span style=\"color: #00af00; text-decoration-color: #00af00\">10</span>)                  │             <span style=\"color: #00af00; text-decoration-color: #00af00\">850</span> │\n",
              "└──────────────────────────────────────┴─────────────────────────────┴─────────────────┘\n",
              "</pre>\n"
            ]
          },
          "metadata": {}
        },
        {
          "output_type": "display_data",
          "data": {
            "text/plain": [
              "\u001b[1m Total params: \u001b[0m\u001b[38;5;34m303,626\u001b[0m (1.16 MB)\n"
            ],
            "text/html": [
              "<pre style=\"white-space:pre;overflow-x:auto;line-height:normal;font-family:Menlo,'DejaVu Sans Mono',consolas,'Courier New',monospace\"><span style=\"font-weight: bold\"> Total params: </span><span style=\"color: #00af00; text-decoration-color: #00af00\">303,626</span> (1.16 MB)\n",
              "</pre>\n"
            ]
          },
          "metadata": {}
        },
        {
          "output_type": "display_data",
          "data": {
            "text/plain": [
              "\u001b[1m Trainable params: \u001b[0m\u001b[38;5;34m303,626\u001b[0m (1.16 MB)\n"
            ],
            "text/html": [
              "<pre style=\"white-space:pre;overflow-x:auto;line-height:normal;font-family:Menlo,'DejaVu Sans Mono',consolas,'Courier New',monospace\"><span style=\"font-weight: bold\"> Trainable params: </span><span style=\"color: #00af00; text-decoration-color: #00af00\">303,626</span> (1.16 MB)\n",
              "</pre>\n"
            ]
          },
          "metadata": {}
        },
        {
          "output_type": "display_data",
          "data": {
            "text/plain": [
              "\u001b[1m Non-trainable params: \u001b[0m\u001b[38;5;34m0\u001b[0m (0.00 B)\n"
            ],
            "text/html": [
              "<pre style=\"white-space:pre;overflow-x:auto;line-height:normal;font-family:Menlo,'DejaVu Sans Mono',consolas,'Courier New',monospace\"><span style=\"font-weight: bold\"> Non-trainable params: </span><span style=\"color: #00af00; text-decoration-color: #00af00\">0</span> (0.00 B)\n",
              "</pre>\n"
            ]
          },
          "metadata": {}
        }
      ]
    },
    {
      "cell_type": "code",
      "source": [
        "model.compile(loss = keras.losses.categorical_crossentropy, optimizer = 'adam', metrics = ['accuracy'])\n",
        "history = model.fit(x_train, y_train, batch_size = 32, epochs = 20, verbose = 1, validation_data = (x_val, y_val))\n",
        "\n",
        "score = model.evaluate(x_test, y_test, verbose = 1)\n",
        "score\n"
      ],
      "metadata": {
        "colab": {
          "base_uri": "https://localhost:8080/"
        },
        "id": "b49Dpu0jo42B",
        "outputId": "5f2d0f85-458a-4e45-8da8-cb0cc8184873"
      },
      "execution_count": 13,
      "outputs": [
        {
          "output_type": "stream",
          "name": "stdout",
          "text": [
            "Epoch 1/20\n",
            "\u001b[1m1688/1688\u001b[0m \u001b[32m━━━━━━━━━━━━━━━━━━━━\u001b[0m\u001b[37m\u001b[0m \u001b[1m26s\u001b[0m 10ms/step - accuracy: 0.9030 - loss: 0.3225 - val_accuracy: 0.9665 - val_loss: 0.1118\n",
            "Epoch 2/20\n",
            "\u001b[1m1688/1688\u001b[0m \u001b[32m━━━━━━━━━━━━━━━━━━━━\u001b[0m\u001b[37m\u001b[0m \u001b[1m6s\u001b[0m 3ms/step - accuracy: 0.9699 - loss: 0.1017 - val_accuracy: 0.9783 - val_loss: 0.0781\n",
            "Epoch 3/20\n",
            "\u001b[1m1688/1688\u001b[0m \u001b[32m━━━━━━━━━━━━━━━━━━━━\u001b[0m\u001b[37m\u001b[0m \u001b[1m9s\u001b[0m 3ms/step - accuracy: 0.9748 - loss: 0.0832 - val_accuracy: 0.9738 - val_loss: 0.0835\n",
            "Epoch 4/20\n",
            "\u001b[1m1688/1688\u001b[0m \u001b[32m━━━━━━━━━━━━━━━━━━━━\u001b[0m\u001b[37m\u001b[0m \u001b[1m4s\u001b[0m 3ms/step - accuracy: 0.9789 - loss: 0.0701 - val_accuracy: 0.9778 - val_loss: 0.0785\n",
            "Epoch 5/20\n",
            "\u001b[1m1688/1688\u001b[0m \u001b[32m━━━━━━━━━━━━━━━━━━━━\u001b[0m\u001b[37m\u001b[0m \u001b[1m5s\u001b[0m 3ms/step - accuracy: 0.9792 - loss: 0.0663 - val_accuracy: 0.9788 - val_loss: 0.0783\n",
            "Epoch 6/20\n",
            "\u001b[1m1688/1688\u001b[0m \u001b[32m━━━━━━━━━━━━━━━━━━━━\u001b[0m\u001b[37m\u001b[0m \u001b[1m5s\u001b[0m 3ms/step - accuracy: 0.9811 - loss: 0.0602 - val_accuracy: 0.9785 - val_loss: 0.0698\n",
            "Epoch 7/20\n",
            "\u001b[1m1688/1688\u001b[0m \u001b[32m━━━━━━━━━━━━━━━━━━━━\u001b[0m\u001b[37m\u001b[0m \u001b[1m7s\u001b[0m 4ms/step - accuracy: 0.9826 - loss: 0.0539 - val_accuracy: 0.9787 - val_loss: 0.0751\n",
            "Epoch 8/20\n",
            "\u001b[1m1688/1688\u001b[0m \u001b[32m━━━━━━━━━━━━━━━━━━━━\u001b[0m\u001b[37m\u001b[0m \u001b[1m9s\u001b[0m 3ms/step - accuracy: 0.9836 - loss: 0.0522 - val_accuracy: 0.9800 - val_loss: 0.0649\n",
            "Epoch 9/20\n",
            "\u001b[1m1688/1688\u001b[0m \u001b[32m━━━━━━━━━━━━━━━━━━━━\u001b[0m\u001b[37m\u001b[0m \u001b[1m5s\u001b[0m 3ms/step - accuracy: 0.9853 - loss: 0.0480 - val_accuracy: 0.9775 - val_loss: 0.0721\n",
            "Epoch 10/20\n",
            "\u001b[1m1688/1688\u001b[0m \u001b[32m━━━━━━━━━━━━━━━━━━━━\u001b[0m\u001b[37m\u001b[0m \u001b[1m4s\u001b[0m 3ms/step - accuracy: 0.9852 - loss: 0.0483 - val_accuracy: 0.9810 - val_loss: 0.0664\n",
            "Epoch 11/20\n",
            "\u001b[1m1688/1688\u001b[0m \u001b[32m━━━━━━━━━━━━━━━━━━━━\u001b[0m\u001b[37m\u001b[0m \u001b[1m5s\u001b[0m 3ms/step - accuracy: 0.9855 - loss: 0.0453 - val_accuracy: 0.9812 - val_loss: 0.0619\n",
            "Epoch 12/20\n",
            "\u001b[1m1688/1688\u001b[0m \u001b[32m━━━━━━━━━━━━━━━━━━━━\u001b[0m\u001b[37m\u001b[0m \u001b[1m6s\u001b[0m 3ms/step - accuracy: 0.9858 - loss: 0.0434 - val_accuracy: 0.9798 - val_loss: 0.0758\n",
            "Epoch 13/20\n",
            "\u001b[1m1688/1688\u001b[0m \u001b[32m━━━━━━━━━━━━━━━━━━━━\u001b[0m\u001b[37m\u001b[0m \u001b[1m10s\u001b[0m 3ms/step - accuracy: 0.9859 - loss: 0.0432 - val_accuracy: 0.9817 - val_loss: 0.0615\n",
            "Epoch 14/20\n",
            "\u001b[1m1688/1688\u001b[0m \u001b[32m━━━━━━━━━━━━━━━━━━━━\u001b[0m\u001b[37m\u001b[0m \u001b[1m9s\u001b[0m 3ms/step - accuracy: 0.9868 - loss: 0.0411 - val_accuracy: 0.9832 - val_loss: 0.0563\n",
            "Epoch 15/20\n",
            "\u001b[1m1688/1688\u001b[0m \u001b[32m━━━━━━━━━━━━━━━━━━━━\u001b[0m\u001b[37m\u001b[0m \u001b[1m6s\u001b[0m 3ms/step - accuracy: 0.9873 - loss: 0.0413 - val_accuracy: 0.9860 - val_loss: 0.0527\n",
            "Epoch 16/20\n",
            "\u001b[1m1688/1688\u001b[0m \u001b[32m━━━━━━━━━━━━━━━━━━━━\u001b[0m\u001b[37m\u001b[0m \u001b[1m5s\u001b[0m 3ms/step - accuracy: 0.9868 - loss: 0.0435 - val_accuracy: 0.9830 - val_loss: 0.0550\n",
            "Epoch 17/20\n",
            "\u001b[1m1688/1688\u001b[0m \u001b[32m━━━━━━━━━━━━━━━━━━━━\u001b[0m\u001b[37m\u001b[0m \u001b[1m5s\u001b[0m 3ms/step - accuracy: 0.9864 - loss: 0.0408 - val_accuracy: 0.9818 - val_loss: 0.0597\n",
            "Epoch 18/20\n",
            "\u001b[1m1688/1688\u001b[0m \u001b[32m━━━━━━━━━━━━━━━━━━━━\u001b[0m\u001b[37m\u001b[0m \u001b[1m5s\u001b[0m 3ms/step - accuracy: 0.9869 - loss: 0.0407 - val_accuracy: 0.9828 - val_loss: 0.0553\n",
            "Epoch 19/20\n",
            "\u001b[1m1688/1688\u001b[0m \u001b[32m━━━━━━━━━━━━━━━━━━━━\u001b[0m\u001b[37m\u001b[0m \u001b[1m5s\u001b[0m 3ms/step - accuracy: 0.9881 - loss: 0.0358 - val_accuracy: 0.9830 - val_loss: 0.0547\n",
            "Epoch 20/20\n",
            "\u001b[1m1688/1688\u001b[0m \u001b[32m━━━━━━━━━━━━━━━━━━━━\u001b[0m\u001b[37m\u001b[0m \u001b[1m6s\u001b[0m 3ms/step - accuracy: 0.9883 - loss: 0.0368 - val_accuracy: 0.9852 - val_loss: 0.0499\n",
            "\u001b[1m313/313\u001b[0m \u001b[32m━━━━━━━━━━━━━━━━━━━━\u001b[0m\u001b[37m\u001b[0m \u001b[1m1s\u001b[0m 2ms/step - accuracy: 0.9835 - loss: 0.0501\n"
          ]
        },
        {
          "output_type": "execute_result",
          "data": {
            "text/plain": [
              "[0.04363243654370308, 0.9865999817848206]"
            ]
          },
          "metadata": {},
          "execution_count": 13
        }
      ]
    }
  ]
}